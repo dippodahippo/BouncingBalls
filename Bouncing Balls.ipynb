import pygame
import random
from math import sqrt

g = 9.8
dt = 0.1
width, height = 200, 500

def distance(x1, y1, x2, y2):
    return sqrt(((x1 - x2) * (x1 - x2)) + ((y1 - y2) * (y1 - y2)))

class Ball:
    def __init__(self, color, x, y, w, h, vx, vy):
        self.color = color
        self.x = x
        self.y = y
        self.w = w
        self.h = h
        self.vx = vx
        self.vy = vy

    def move(self):
        for i in range(COUNT):
            if balls[i] != self:
                if distance(self.x, self.y, balls[i].x, balls[i].y) < (self.w / 2 + balls[i].w / 2):
                    temp = self.vx
                    self.vx = balls[i].vx
                    balls[i].vx = temp

                    temp = self.vy
                    self.vy = balls[i].vy
                    balls[i].vy = temp
                    break

        self.vy = self.vy + g * dt
        dx = self.vx * dt
        dy = self.vy * dt
        if ((self.x + dx) > width) or ((self.x + dx) < 0):
            self.vx = self.vx * -0.8
        else:
            self.x = self.x + dx
        if ((self.y + dy) > height) or ((self.y + dy) < 0):
            self.vy = self.vy * -0.8
        else:
            self.y = self.y + dy

    def draw(self):
        pygame.draw.ellipse(screen, self.color, (self.x, self.y, self.w, self.h))

pygame.init()
screen = pygame.display.set_mode((width, height))
pygame.display.set_caption("Bouncing Balls")
clock = pygame.time.Clock()

balls = []
COUNT = 0
t = 0

running = True
while running:
    screen.fill((128, 128, 128))

    for event in pygame.event.get():
        if event.type == pygame.QUIT:
            running = False
        elif event.type == pygame.MOUSEBUTTONDOWN:
            if COUNT < 100:
                balls.append(Ball((random.randint(0, 255), random.randint(0, 255), random.randint(0, 255)),
                                  event.pos[0], event.pos[1], 10, 10, random.uniform(-25, 25), 0))
                COUNT += 1

    for ball in balls:
        ball.move()
        ball.draw()

    pygame.display.flip()
    clock.tick(60)

pygame.quit()
